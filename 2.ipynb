{
  "cells": [
    {
      "cell_type": "markdown",
      "metadata": {},
      "source": [
        "В данном файле рассмотрена задача классификации изображений на основен данных FashionMNIST.\n",
        "Набор данных состоит из черно-белых изображений 28x28 пикселей, на которых изображены элементы одежды.\n",
        "Каждое изображение принадлежит одному из 10 классов."
      ]
    },
    {
      "cell_type": "markdown",
      "metadata": {},
      "source": [
        "Ниже прописан импорт библиотек.\n",
        "1. torch: Библиотека для глубокого обучения. Она предоставляет поддержку для тензоров и автоматически вычисляет градиенты.\n",
        "2. torch.nn: Подмодуль библиотеки PyTorch, который содержит классы для создания нейронных сетей. Он предоставляет различные слои, функции активации и другие компоненты, необходимые для построения моделей.\n",
        "3. torch.utils.data: Этот модуль помогает в обработке данных. Класс Dataset используется для определения пользовательских наборов данных, а DataLoader позволяет эффективно загружать данные пакетами.\n",
        "4. torchvision: Это библиотека включает в себя функции для обработки изображений, а также предобученные модели и наборы данных.\n",
        "5. numpy: Библиотека для работы с массивами и матрицами, а также для выполнения различных математических операций.\n",
        "6. sklearn.model_selection: Этот модуль из библиотеки Scikit-learn предоставляет функцию train_test_split для разделения данных на обучающую и тестовую выборки.\n",
        "7. torchvision.transforms: Подмодуль, который содержит различные трансформации для обработки изображений, такие как изменение размера, поворот, обрезка и нормализация.\n",
        "8. tqdm: Библиотека для отображения прогресс-баров в циклах. Полезна для отслеживания прогресса длительных операций (например, при обучении модели).\n",
        "9. torchviz: Библиотека для визуализации графов вычислений PyTorch.\n",
        "10. matplotlib.pyplot: Библиотека для создания графиков и визуализации данных."
      ]
    },
    {
      "cell_type": "code",
      "execution_count": 49,
      "metadata": {
        "id": "cGbI46RX78DE"
      },
      "outputs": [],
      "source": [
        "import torch\n",
        "import torch.nn as nn\n",
        "from torch.utils.data import DataLoader, Dataset\n",
        "import torchvision\n",
        "import numpy as np\n",
        "from sklearn.model_selection import train_test_split\n",
        "import torchvision.transforms as transforms\n",
        "from tqdm import tqdm\n",
        "from torchviz import make_dot\n",
        "import matplotlib.pyplot as plt"
      ]
    },
    {
      "cell_type": "markdown",
      "metadata": {},
      "source": [
        "Ниже загружаются две выборки FashionMNIST (набор данных для задач классификации изображений, состоящий из изображений одежды).\n",
        "Обучающая выборка train_dataset (train = true) и тестовая выборка test_dataset (train = False).\n",
        "В каждом наборе изображения переводятся в формат тензоров (transforms.ToTensor()).\n",
        "Выборки загружаются в папку /data текущего каталога."
      ]
    },
    {
      "cell_type": "code",
      "execution_count": 50,
      "metadata": {
        "colab": {
          "base_uri": "https://localhost:8080/"
        },
        "id": "j8ZArIEV8U58",
        "outputId": "b7686adb-5373-43e7-bb41-b950513a4b4b"
      },
      "outputs": [
        {
          "name": "stdout",
          "output_type": "stream",
          "text": [
            "Downloading http://fashion-mnist.s3-website.eu-central-1.amazonaws.com/train-images-idx3-ubyte.gz\n",
            "Downloading http://fashion-mnist.s3-website.eu-central-1.amazonaws.com/train-images-idx3-ubyte.gz to ./data\\FashionMNIST\\raw\\train-images-idx3-ubyte.gz\n"
          ]
        },
        {
          "name": "stderr",
          "output_type": "stream",
          "text": [
            "100%|██████████| 26421880/26421880 [00:06<00:00, 3894532.28it/s]\n"
          ]
        },
        {
          "name": "stdout",
          "output_type": "stream",
          "text": [
            "Extracting ./data\\FashionMNIST\\raw\\train-images-idx3-ubyte.gz to ./data\\FashionMNIST\\raw\n",
            "\n",
            "Downloading http://fashion-mnist.s3-website.eu-central-1.amazonaws.com/train-labels-idx1-ubyte.gz\n",
            "Downloading http://fashion-mnist.s3-website.eu-central-1.amazonaws.com/train-labels-idx1-ubyte.gz to ./data\\FashionMNIST\\raw\\train-labels-idx1-ubyte.gz\n"
          ]
        },
        {
          "name": "stderr",
          "output_type": "stream",
          "text": [
            "100%|██████████| 29515/29515 [00:00<00:00, 705979.30it/s]\n"
          ]
        },
        {
          "name": "stdout",
          "output_type": "stream",
          "text": [
            "Extracting ./data\\FashionMNIST\\raw\\train-labels-idx1-ubyte.gz to ./data\\FashionMNIST\\raw\n",
            "\n",
            "Downloading http://fashion-mnist.s3-website.eu-central-1.amazonaws.com/t10k-images-idx3-ubyte.gz\n",
            "Downloading http://fashion-mnist.s3-website.eu-central-1.amazonaws.com/t10k-images-idx3-ubyte.gz to ./data\\FashionMNIST\\raw\\t10k-images-idx3-ubyte.gz\n"
          ]
        },
        {
          "name": "stderr",
          "output_type": "stream",
          "text": [
            "100%|██████████| 4422102/4422102 [00:02<00:00, 2023867.67it/s]\n"
          ]
        },
        {
          "name": "stdout",
          "output_type": "stream",
          "text": [
            "Extracting ./data\\FashionMNIST\\raw\\t10k-images-idx3-ubyte.gz to ./data\\FashionMNIST\\raw\n",
            "\n",
            "Downloading http://fashion-mnist.s3-website.eu-central-1.amazonaws.com/t10k-labels-idx1-ubyte.gz\n",
            "Downloading http://fashion-mnist.s3-website.eu-central-1.amazonaws.com/t10k-labels-idx1-ubyte.gz to ./data\\FashionMNIST\\raw\\t10k-labels-idx1-ubyte.gz\n"
          ]
        },
        {
          "name": "stderr",
          "output_type": "stream",
          "text": [
            "100%|██████████| 5148/5148 [00:00<00:00, 5035512.36it/s]"
          ]
        },
        {
          "name": "stdout",
          "output_type": "stream",
          "text": [
            "Extracting ./data\\FashionMNIST\\raw\\t10k-labels-idx1-ubyte.gz to ./data\\FashionMNIST\\raw\n",
            "\n"
          ]
        },
        {
          "name": "stderr",
          "output_type": "stream",
          "text": [
            "\n"
          ]
        }
      ],
      "source": [
        "#transform = transforms.ToTensor()\n",
        "transform = transforms.Compose([\n",
        "    transforms.ToTensor(),\n",
        "    transforms.Normalize((0.5,), (0.5,))  # Добавлена нормализация данных\n",
        "])\n",
        "train_dataset = torchvision.datasets.FashionMNIST(root='./data', train=True, download=True, transform=transform)\n",
        "test_dataset = torchvision.datasets.FashionMNIST(root = \"./data\", train = False, download=True, transform=transform)"
      ]
    },
    {
      "cell_type": "markdown",
      "metadata": {},
      "source": [
        "Ниже создаются объекты train_loader, test_loader - загрузчики данных для обучающей и тестовой выборки.\n",
        "batch_size определяет какой пакет данных будет выдаваться в каждой итерации (64 образца), shuffle=False запрещает перемешивать данные."
      ]
    },
    {
      "cell_type": "code",
      "execution_count": 51,
      "metadata": {
        "id": "nabOH-LS79ij"
      },
      "outputs": [],
      "source": [
        "batch_size = 64\n",
        "\n",
        "train_loader = DataLoader(train_dataset, batch_size=batch_size, shuffle=True)\n",
        "test_loader = DataLoader(test_dataset, batch_size=batch_size, shuffle=False)"
      ]
    },
    {
      "cell_type": "markdown",
      "metadata": {},
      "source": [
        "Ниже из обучающей и тестовой выборок извлекается один пакет (батч) данных.\n",
        "Т.е. в train_item, test_item лежат тензоры с изображениями и названиями (len(train_item) == 2, len(test_item) == 2).\n",
        "train_item[0].shape == torch.Size([64, 1, 28, 28]), значит каждый батч содержит 64 черно-белых изображения размера 28x28.\n",
        "train_item[1].shape == torch.Size([64]), значит каждый батч содержит 64 названия."
      ]
    },
    {
      "cell_type": "code",
      "execution_count": 52,
      "metadata": {
        "colab": {
          "base_uri": "https://localhost:8080/"
        },
        "id": "6lNf98Dr-Wpi",
        "outputId": "a2ba0d63-df2f-4f73-e8ff-7b0990d964c3"
      },
      "outputs": [
        {
          "data": {
            "text/plain": [
              "(2, 2, torch.Size([64, 1, 28, 28]), torch.Size([64]))"
            ]
          },
          "execution_count": 52,
          "metadata": {},
          "output_type": "execute_result"
        }
      ],
      "source": [
        "train_item = next(iter(train_loader))\n",
        "test_item = next(iter(test_loader))\n",
        "len(train_item), len(test_item), train_item[0].shape, train_item[1].shape"
      ]
    },
    {
      "cell_type": "markdown",
      "metadata": {},
      "source": [
        "Ниже определяется класс нейронной сети на базе класса torch.nn.Module"
      ]
    },
    {
      "cell_type": "code",
      "execution_count": 53,
      "metadata": {
        "id": "Wv21tbtXmEbW"
      },
      "outputs": [],
      "source": [
        "class NNModel(nn.Module):\n",
        "    def __init__(self,\n",
        "                 # Размеры слоев изменены в соответствие с размерами данных\n",
        "                 layers_size = [784, 32, 16, 10], \n",
        "                 dropout_prob = 0.1 # Вероятность отключения нейрона изменена с 1.0 до 0.1\n",
        "                 ):\n",
        "        super().__init__()\n",
        "        self.conv = nn.Conv2d(1, 1, kernel_size = 1, stride = 1)\n",
        "        # Для линейных слоев использован ModuleList\n",
        "        self.layers = nn.ModuleList( [nn.Linear(layers_size[i], layers_size[i+1]) for i in range(len(layers_size)-1)] )\n",
        "        self.norm = [nn.BatchNorm1d(inp_size, affine  = False) for inp_size in layers_size[1:-1]]\n",
        "        self.relu = nn.ReLU()\n",
        "        self.dropout = nn.Dropout(p=dropout_prob)\n",
        "\n",
        "    def forward(self, batch):\n",
        "        bs = batch.shape[0]\n",
        "        batch = self.conv(batch)  # Применение свёрточного слоя\n",
        "        batch = batch.view(bs, -1)\n",
        "        # Применение линейных слоев\n",
        "        for i, layer in enumerate(self.layers):\n",
        "            if i < len(self.layers) -1:\n",
        "                batch = self.dropout(self.relu(self.norm[i](layer(batch))))\n",
        "            else:\n",
        "                batch = layer(batch)\n",
        "        return batch\n",
        "\n",
        "    def print_net(self): # Вывод структуры сети\n",
        "        print(self.conv)\n",
        "        for i, layer in enumerate(self.layers):\n",
        "            if i < len(self.layers) -1:\n",
        "                print(layer)\n",
        "                print(self.norm[i])\n",
        "                print(self.relu)\n",
        "                print(self.dropout)\n",
        "            else:\n",
        "                print(layer)\n",
        "\n",
        "        return"
      ]
    },
    {
      "cell_type": "markdown",
      "metadata": {},
      "source": [
        "Ниже создается экземпляр класса и печатается его структура."
      ]
    },
    {
      "cell_type": "code",
      "execution_count": 54,
      "metadata": {
        "colab": {
          "base_uri": "https://localhost:8080/"
        },
        "id": "sD36MPJlp7m-",
        "outputId": "f8753f6a-cfcf-49df-b8fd-e1b4d8c9dd05"
      },
      "outputs": [
        {
          "name": "stdout",
          "output_type": "stream",
          "text": [
            "Conv2d(1, 1, kernel_size=(1, 1), stride=(1, 1))\n",
            "Linear(in_features=784, out_features=32, bias=True)\n",
            "BatchNorm1d(32, eps=1e-05, momentum=0.1, affine=False, track_running_stats=True)\n",
            "ReLU()\n",
            "Dropout(p=0.1, inplace=False)\n",
            "Linear(in_features=32, out_features=16, bias=True)\n",
            "BatchNorm1d(16, eps=1e-05, momentum=0.1, affine=False, track_running_stats=True)\n",
            "ReLU()\n",
            "Dropout(p=0.1, inplace=False)\n",
            "Linear(in_features=16, out_features=10, bias=True)\n"
          ]
        }
      ],
      "source": [
        "mlp  = NNModel()\n",
        "\n",
        "# predictions = mlp(train_item[0])\n",
        "# make_dot(predictions, params=dict(mlp.named_parameters()))\n",
        "mlp.print_net()"
      ]
    },
    {
      "cell_type": "code",
      "execution_count": 55,
      "metadata": {
        "colab": {
          "base_uri": "https://localhost:8080/",
          "height": 356
        },
        "id": "VtgLUBij7FGM",
        "outputId": "8b9e80e9-1688-4e53-9fdd-3dee69ec151c"
      },
      "outputs": [
        {
          "data": {
            "image/png": "[encoded data removed]",
            "text/plain": [
              "<Figure size 640x480 with 1 Axes>"
            ]
          },
          "metadata": {},
          "output_type": "display_data"
        }
      ],
      "source": [
        "num_epochs = 1000\n",
        "DEBUG = False\n",
        "ce_loss = nn.CrossEntropyLoss()\n",
        "optimizer = torch.optim.Adam(mlp.parameters(), lr =  0.0001) # Уменьшена скорость обучения\n",
        "\n",
        "logger = {'train':[],\n",
        "          'eval' :[]\n",
        "          }\n",
        "for epoch in range(num_epochs):\n",
        "\n",
        "    epoch_stat = []\n",
        "\n",
        "    # train part\n",
        "\n",
        "    mlp.train()\n",
        "    for batch in [train_item]:\n",
        "\n",
        "        images, labels = batch\n",
        "        images, labels = images.float(), labels.long()\n",
        "        \n",
        "        optimizer.zero_grad() # Добавлено обнуление градиентов перед вычислениями\n",
        "        predictions = mlp(images)\n",
        "        loss = ce_loss(predictions, labels)\n",
        "        loss.backward()\n",
        "        optimizer.step()\n",
        "\n",
        "        epoch_stat.append(loss.item())\n",
        "\n",
        "    if DEBUG: print(f\"train loss value = {np.mean(epoch_stat)}\")\n",
        "    logger['train'].append(np.mean(epoch_stat))\n",
        "\n",
        "    # eval part\n",
        "    eval_stat = [] # eval stat был вынесен из цикла\n",
        "    mlp.eval() # Добавлен вызов mlp.eval()\n",
        "    with torch.no_grad():\n",
        "        # Для тестирования модели теперь используется отдельная выборка\n",
        "        for batch in [test_item]:\n",
        "\n",
        "            images, labels = batch\n",
        "            images, labels = images.float(), labels.long()\n",
        "\n",
        "            predictions = mlp(images)\n",
        "            loss = ce_loss(predictions, labels)\n",
        "            # На этапе тестирования модели было выключено обновление параметров\n",
        "            #loss.backward() \n",
        "            #optimizer.step()\n",
        "\n",
        "            eval_stat.append(loss.item())\n",
        "        if DEBUG: print(f\"eval loss value = {np.mean(eval_stat)}\")\n",
        "        logger['eval'].append(np.mean(eval_stat))\n",
        "\n",
        "plt.plot(logger['train'], label='Train loss' )\n",
        "plt.plot(logger['eval'], label='Val loss')\n",
        "plt.legend()\n",
        "plt.show()"
      ]
    },
    {
      "cell_type": "code",
      "execution_count": 56,
      "metadata": {
        "colab": {
          "base_uri": "https://localhost:8080/"
        },
        "id": "kR5E4dNasv-e",
        "outputId": "36bbc1e6-11f0-4117-dd44-b4e03403ad60"
      },
      "outputs": [
        {
          "data": {
            "text/plain": [
              "NNModel(\n",
              "  (conv): Conv2d(1, 1, kernel_size=(1, 1), stride=(1, 1))\n",
              "  (layers): ModuleList(\n",
              "    (0): Linear(in_features=784, out_features=32, bias=True)\n",
              "    (1): Linear(in_features=32, out_features=16, bias=True)\n",
              "    (2): Linear(in_features=16, out_features=10, bias=True)\n",
              "  )\n",
              "  (relu): ReLU()\n",
              "  (dropout): Dropout(p=0.1, inplace=False)\n",
              ")"
            ]
          },
          "execution_count": 56,
          "metadata": {},
          "output_type": "execute_result"
        }
      ],
      "source": [
        "mlp"
      ]
    },
    {
      "cell_type": "code",
      "execution_count": null,
      "metadata": {
        "id": "3SknE_w6rB83"
      },
      "outputs": [],
      "source": [
        "# pytorch_total_params = sum(p.numel() for p in mlp.parameters())\n",
        "# pytorch_total_params"
      ]
    },
    {
      "cell_type": "code",
      "execution_count": null,
      "metadata": {
        "id": "kFkZrcmmsOu4"
      },
      "outputs": [],
      "source": []
    }
  ],
  "metadata": {
    "colab": {
      "provenance": []
    },
    "kernelspec": {
      "display_name": ".venv",
      "language": "python",
      "name": "python3"
    },
    "language_info": {
      "codemirror_mode": {
        "name": "ipython",
        "version": 3
      },
      "file_extension": ".py",
      "mimetype": "text/x-python",
      "name": "python",
      "nbconvert_exporter": "python",
      "pygments_lexer": "ipython3",
      "version": "3.12.6"
    }
  },
  "nbformat": 4,
  "nbformat_minor": 0
}
